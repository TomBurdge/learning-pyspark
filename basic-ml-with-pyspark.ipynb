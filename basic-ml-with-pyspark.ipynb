{
 "cells": [
  {
   "cell_type": "markdown",
   "id": "bfda863a",
   "metadata": {},
   "source": [
    "# Simple ML PySpark Example"
   ]
  },
  {
   "cell_type": "markdown",
   "id": "7e37aa27",
   "metadata": {},
   "source": [
    "Does a very simple ML use case with pyspark.<br>\n",
    "This case is much simpler than the ML already covered with Cambridge Spark, but uses pyspark rather than scikit-learn. I'm not spending much time on this, because the more abstract concepts are more important (and challenging) than performing actions with that vs. this library."
   ]
  },
  {
   "cell_type": "code",
   "execution_count": 1,
   "id": "6c46fd39",
   "metadata": {},
   "outputs": [],
   "source": [
    "from pyspark.sql import SparkSession\n",
    "spark=SparkSession.builder.appName('Missing').getOrCreate()"
   ]
  },
  {
   "cell_type": "code",
   "execution_count": 2,
   "id": "651b0d2e",
   "metadata": {},
   "outputs": [],
   "source": [
    "training = spark.read.csv('Pokemon.csv',header=True,inferSchema=True)"
   ]
  },
  {
   "cell_type": "code",
   "execution_count": 3,
   "id": "264bfd82",
   "metadata": {},
   "outputs": [
    {
     "name": "stdout",
     "output_type": "stream",
     "text": [
      "+---+--------------------+------+------+-----+---+------+-------+-------+-------+-----+----------+---------+\n",
      "|  #|                Name|Type 1|Type 2|Total| HP|Attack|Defense|Sp. Atk|Sp. Def|Speed|Generation|Legendary|\n",
      "+---+--------------------+------+------+-----+---+------+-------+-------+-------+-----+----------+---------+\n",
      "|  1|           Bulbasaur| Grass|Poison|  318| 45|    49|     49|     65|     65|   45|         1|    false|\n",
      "|  2|             Ivysaur| Grass|Poison|  405| 60|    62|     63|     80|     80|   60|         1|    false|\n",
      "|  3|            Venusaur| Grass|Poison|  525| 80|    82|     83|    100|    100|   80|         1|    false|\n",
      "|  3|VenusaurMega Venu...| Grass|Poison|  625| 80|   100|    123|    122|    120|   80|         1|    false|\n",
      "|  4|          Charmander|  Fire|  null|  309| 39|    52|     43|     60|     50|   65|         1|    false|\n",
      "|  5|          Charmeleon|  Fire|  null|  405| 58|    64|     58|     80|     65|   80|         1|    false|\n",
      "|  6|           Charizard|  Fire|Flying|  534| 78|    84|     78|    109|     85|  100|         1|    false|\n",
      "|  6|CharizardMega Cha...|  Fire|Dragon|  634| 78|   130|    111|    130|     85|  100|         1|    false|\n",
      "|  6|CharizardMega Cha...|  Fire|Flying|  634| 78|   104|     78|    159|    115|  100|         1|    false|\n",
      "|  7|            Squirtle| Water|  null|  314| 44|    48|     65|     50|     64|   43|         1|    false|\n",
      "|  8|           Wartortle| Water|  null|  405| 59|    63|     80|     65|     80|   58|         1|    false|\n",
      "|  9|           Blastoise| Water|  null|  530| 79|    83|    100|     85|    105|   78|         1|    false|\n",
      "|  9|BlastoiseMega Bla...| Water|  null|  630| 79|   103|    120|    135|    115|   78|         1|    false|\n",
      "| 10|            Caterpie|   Bug|  null|  195| 45|    30|     35|     20|     20|   45|         1|    false|\n",
      "| 11|             Metapod|   Bug|  null|  205| 50|    20|     55|     25|     25|   30|         1|    false|\n",
      "| 12|          Butterfree|   Bug|Flying|  395| 60|    45|     50|     90|     80|   70|         1|    false|\n",
      "| 13|              Weedle|   Bug|Poison|  195| 40|    35|     30|     20|     20|   50|         1|    false|\n",
      "| 14|              Kakuna|   Bug|Poison|  205| 45|    25|     50|     25|     25|   35|         1|    false|\n",
      "| 15|            Beedrill|   Bug|Poison|  395| 65|    90|     40|     45|     80|   75|         1|    false|\n",
      "| 15|BeedrillMega Beed...|   Bug|Poison|  495| 65|   150|     40|     15|     80|  145|         1|    false|\n",
      "+---+--------------------+------+------+-----+---+------+-------+-------+-------+-----+----------+---------+\n",
      "only showing top 20 rows\n",
      "\n"
     ]
    }
   ],
   "source": [
    "training.show()"
   ]
  },
  {
   "cell_type": "markdown",
   "id": "a6aa2b6c",
   "metadata": {},
   "source": [
    "Will predict HP, from Attack, Defense and Speed"
   ]
  },
  {
   "cell_type": "code",
   "execution_count": 12,
   "id": "4a464f8b",
   "metadata": {},
   "outputs": [],
   "source": [
    "training = training.select(['HP','Attack','Defense', 'Speed'])"
   ]
  },
  {
   "cell_type": "markdown",
   "id": "43bf02eb",
   "metadata": {},
   "source": [
    "Making a vector, so that have a single independent feature:"
   ]
  },
  {
   "cell_type": "code",
   "execution_count": 13,
   "id": "d54dc132",
   "metadata": {},
   "outputs": [],
   "source": [
    "from pyspark.ml.feature import VectorAssembler\n",
    "featureassembler=VectorAssembler(inputCols=['Attack','Defense', 'Speed'],outputCol=\"Independent Features\")"
   ]
  },
  {
   "cell_type": "code",
   "execution_count": 14,
   "id": "c80d776e",
   "metadata": {},
   "outputs": [],
   "source": [
    "output=featureassembler.transform(training)"
   ]
  },
  {
   "cell_type": "code",
   "execution_count": 15,
   "id": "21837567",
   "metadata": {},
   "outputs": [
    {
     "name": "stdout",
     "output_type": "stream",
     "text": [
      "+---+------+-------+-----+--------------------+\n",
      "| HP|Attack|Defense|Speed|Independent Features|\n",
      "+---+------+-------+-----+--------------------+\n",
      "| 45|    49|     49|   45|    [49.0,49.0,45.0]|\n",
      "| 60|    62|     63|   60|    [62.0,63.0,60.0]|\n",
      "| 80|    82|     83|   80|    [82.0,83.0,80.0]|\n",
      "| 80|   100|    123|   80|  [100.0,123.0,80.0]|\n",
      "| 39|    52|     43|   65|    [52.0,43.0,65.0]|\n",
      "| 58|    64|     58|   80|    [64.0,58.0,80.0]|\n",
      "| 78|    84|     78|  100|   [84.0,78.0,100.0]|\n",
      "| 78|   130|    111|  100| [130.0,111.0,100.0]|\n",
      "| 78|   104|     78|  100|  [104.0,78.0,100.0]|\n",
      "| 44|    48|     65|   43|    [48.0,65.0,43.0]|\n",
      "| 59|    63|     80|   58|    [63.0,80.0,58.0]|\n",
      "| 79|    83|    100|   78|   [83.0,100.0,78.0]|\n",
      "| 79|   103|    120|   78|  [103.0,120.0,78.0]|\n",
      "| 45|    30|     35|   45|    [30.0,35.0,45.0]|\n",
      "| 50|    20|     55|   30|    [20.0,55.0,30.0]|\n",
      "| 60|    45|     50|   70|    [45.0,50.0,70.0]|\n",
      "| 40|    35|     30|   50|    [35.0,30.0,50.0]|\n",
      "| 45|    25|     50|   35|    [25.0,50.0,35.0]|\n",
      "| 65|    90|     40|   75|    [90.0,40.0,75.0]|\n",
      "| 65|   150|     40|  145|  [150.0,40.0,145.0]|\n",
      "+---+------+-------+-----+--------------------+\n",
      "only showing top 20 rows\n",
      "\n"
     ]
    }
   ],
   "source": [
    "output.show()"
   ]
  },
  {
   "cell_type": "code",
   "execution_count": 18,
   "id": "6d8dd6cb",
   "metadata": {},
   "outputs": [
    {
     "name": "stdout",
     "output_type": "stream",
     "text": [
      "+---+--------------------+\n",
      "| HP|Independent Features|\n",
      "+---+--------------------+\n",
      "| 45|    [49.0,49.0,45.0]|\n",
      "| 60|    [62.0,63.0,60.0]|\n",
      "| 80|    [82.0,83.0,80.0]|\n",
      "| 80|  [100.0,123.0,80.0]|\n",
      "| 39|    [52.0,43.0,65.0]|\n",
      "| 58|    [64.0,58.0,80.0]|\n",
      "| 78|   [84.0,78.0,100.0]|\n",
      "| 78| [130.0,111.0,100.0]|\n",
      "| 78|  [104.0,78.0,100.0]|\n",
      "| 44|    [48.0,65.0,43.0]|\n",
      "| 59|    [63.0,80.0,58.0]|\n",
      "| 79|   [83.0,100.0,78.0]|\n",
      "| 79|  [103.0,120.0,78.0]|\n",
      "| 45|    [30.0,35.0,45.0]|\n",
      "| 50|    [20.0,55.0,30.0]|\n",
      "| 60|    [45.0,50.0,70.0]|\n",
      "| 40|    [35.0,30.0,50.0]|\n",
      "| 45|    [25.0,50.0,35.0]|\n",
      "| 65|    [90.0,40.0,75.0]|\n",
      "| 65|  [150.0,40.0,145.0]|\n",
      "+---+--------------------+\n",
      "only showing top 20 rows\n",
      "\n"
     ]
    }
   ],
   "source": [
    "finalised_data = output.select(['HP','Independent Features'])\n",
    "finalised_data.show()"
   ]
  },
  {
   "cell_type": "code",
   "execution_count": 21,
   "id": "a332b7e6",
   "metadata": {},
   "outputs": [],
   "source": [
    "from pyspark.ml.regression import LinearRegression\n",
    "##train test split\n",
    "train_data,test_data=finalised_data.randomSplit([0.75,0.25])\n",
    "regressor=LinearRegression(featuresCol='Independent Features', labelCol='HP')\n",
    "regressor=regressor.fit(train_data)"
   ]
  },
  {
   "cell_type": "code",
   "execution_count": 22,
   "id": "7e002b7b",
   "metadata": {},
   "outputs": [],
   "source": [
    "### Prediction\n",
    "pred_results=regressor.evaluate(test_data)"
   ]
  },
  {
   "cell_type": "code",
   "execution_count": 23,
   "id": "81fb19ac",
   "metadata": {},
   "outputs": [
    {
     "name": "stderr",
     "output_type": "stream",
     "text": [
      "C:\\Users\\tombu\\anaconda3\\lib\\site-packages\\pyspark\\sql\\context.py:125: FutureWarning: Deprecated in 3.0.0. Use SparkSession.builder.getOrCreate() instead.\n",
      "  warnings.warn(\n"
     ]
    },
    {
     "name": "stdout",
     "output_type": "stream",
     "text": [
      "+---+--------------------+------------------+\n",
      "| HP|Independent Features|        prediction|\n",
      "+---+--------------------+------------------+\n",
      "| 20|    [25.0,45.0,60.0]| 51.91578903943794|\n",
      "| 30|   [45.0,135.0,30.0]|  63.7078194338166|\n",
      "| 30|   [65.0,100.0,40.0]| 66.65940895965747|\n",
      "| 30|   [105.0,90.0,50.0]|  77.1021395872071|\n",
      "| 31|    [45.0,90.0,40.0]| 60.38362856685312|\n",
      "| 35|    [20.0,65.0,20.0]| 50.88231996559459|\n",
      "| 35|   [80.0,50.0,120.0]| 69.28249161479158|\n",
      "| 37|    [25.0,41.0,25.0]| 50.46507344127277|\n",
      "| 38|    [30.0,41.0,60.0]| 52.95807783044712|\n",
      "| 38|    [30.0,85.0,30.0]|55.557462130650876|\n",
      "| 38|    [35.0,40.0,35.0]|  53.4387106138629|\n",
      "| 38|    [41.0,40.0,65.0]| 56.04404636917246|\n",
      "| 39|    [52.0,43.0,65.0]| 59.29316546706413|\n",
      "| 40|    [29.0,45.0,36.0]| 52.23635800007891|\n",
      "| 40|   [35.0,30.0,105.0]|54.881708959507954|\n",
      "| 40|    [40.0,35.0,70.0]| 55.52659476673578|\n",
      "| 40|    [45.0,35.0,55.0]|56.410142857161574|\n",
      "| 40|    [45.0,40.0,56.0]| 56.84745221943801|\n",
      "| 40|    [45.0,40.0,65.0]| 57.13715435321275|\n",
      "| 40|    [65.0,40.0,65.0]| 62.60269427341417|\n",
      "+---+--------------------+------------------+\n",
      "only showing top 20 rows\n",
      "\n"
     ]
    }
   ],
   "source": [
    "pred_results.predictions.show()"
   ]
  },
  {
   "cell_type": "code",
   "execution_count": 25,
   "id": "ac4d301a",
   "metadata": {},
   "outputs": [
    {
     "data": {
      "text/plain": [
       "(15.606658585360195, 456.8444295623709)"
      ]
     },
     "execution_count": 25,
     "metadata": {},
     "output_type": "execute_result"
    }
   ],
   "source": [
    "## Evaluate how the model is performing\n",
    "pred_results.meanAbsoluteError,pred_results.meanSquaredError"
   ]
  }
 ],
 "metadata": {
  "kernelspec": {
   "display_name": "Python 3 (ipykernel)",
   "language": "python",
   "name": "python3"
  },
  "language_info": {
   "codemirror_mode": {
    "name": "ipython",
    "version": 3
   },
   "file_extension": ".py",
   "mimetype": "text/x-python",
   "name": "python",
   "nbconvert_exporter": "python",
   "pygments_lexer": "ipython3",
   "version": "3.9.13"
  }
 },
 "nbformat": 4,
 "nbformat_minor": 5
}
