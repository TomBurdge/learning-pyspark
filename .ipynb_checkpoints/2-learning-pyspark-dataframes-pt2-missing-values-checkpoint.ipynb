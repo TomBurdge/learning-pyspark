{
 "cells": [
  {
   "cell_type": "markdown",
   "id": "b69f62f0",
   "metadata": {},
   "source": [
    "# PySpark Handling Missing Values"
   ]
  },
  {
   "cell_type": "markdown",
   "id": "58193721",
   "metadata": {},
   "source": [
    "Covers:\n",
    "\n",
    "* Dropping Columns\n",
    "* Dropping Rows\n",
    "* Various Parameter In Dropping functionalities\n",
    "* Handling Missing values by Mean, Median And Mode"
   ]
  },
  {
   "cell_type": "code",
   "execution_count": 39,
   "id": "30dd45ee",
   "metadata": {},
   "outputs": [],
   "source": [
    "## Setup\n",
    "from pyspark.sql import SparkSession\n",
    "spark=SparkSession.builder.appName('Practice').getOrCreate()"
   ]
  },
  {
   "cell_type": "code",
   "execution_count": 40,
   "id": "710a39c8",
   "metadata": {},
   "outputs": [],
   "source": [
    "## Read the csv\n",
    "df_pyspark = spark.read.csv('Pokemon.csv', header=True,inferSchema=True)\n",
    "## So that am dealing with missing values, I have added some null values to the Pokemon.csv in this branch"
   ]
  },
  {
   "cell_type": "code",
   "execution_count": 41,
   "id": "3dc2e336",
   "metadata": {},
   "outputs": [
    {
     "name": "stdout",
     "output_type": "stream",
     "text": [
      "+---+--------------------+------+------+-----+---+------+-------+-------+-------+-----+----------+---------+\n",
      "|  #|                Name|Type 1|Type 2|Total| HP|Attack|Defense|Sp. Atk|Sp. Def|Speed|Generation|Legendary|\n",
      "+---+--------------------+------+------+-----+---+------+-------+-------+-------+-----+----------+---------+\n",
      "|  1|                null| Grass|Poison|  318| 45|    49|     49|     65|   null| null|         1|    false|\n",
      "|  2|                null| Grass|Poison|  405| 60|    62|     63|     80|   null| null|         1|    false|\n",
      "|  3|                null| Grass|Poison|  525| 80|    82|     83|    100|   null| null|         1|    false|\n",
      "|  3|VenusaurMega Venu...| Grass|Poison|  625| 80|   100|    123|    122|   null| null|         1|    false|\n",
      "|  4|          Charmander|  Fire|  null|  309| 39|    52|     43|     60|   null| null|         1|    false|\n",
      "|  5|          Charmeleon|  Fire|  null|  405| 58|    64|     58|     80|     65|   80|         1|    false|\n",
      "|  6|           Charizard|  Fire|Flying|  534| 78|    84|     78|    109|     85|  100|         1|    false|\n",
      "|  6|CharizardMega Cha...|  Fire|Dragon|  634| 78|   130|    111|    130|     85|  100|         1|    false|\n",
      "|  6|CharizardMega Cha...|  Fire|Flying|  634| 78|   104|     78|    159|    115|  100|         1|    false|\n",
      "|  7|            Squirtle| Water|  null|  314| 44|    48|     65|     50|     64|   43|         1|    false|\n",
      "|  8|           Wartortle| Water|  null|  405| 59|    63|     80|     65|     80|   58|         1|    false|\n",
      "|  9|           Blastoise| Water|  null|  530| 79|    83|    100|     85|    105|   78|         1|    false|\n",
      "|  9|BlastoiseMega Bla...| Water|  null|  630| 79|   103|    120|    135|    115|   78|         1|    false|\n",
      "| 10|            Caterpie|   Bug|  null|  195| 45|    30|     35|     20|     20|   45|         1|    false|\n",
      "| 11|             Metapod|   Bug|  null|  205| 50|    20|     55|     25|     25|   30|         1|    false|\n",
      "| 12|          Butterfree|   Bug|Flying|  395| 60|    45|     50|     90|     80|   70|         1|    false|\n",
      "| 13|              Weedle|   Bug|Poison|  195| 40|    35|     30|     20|     20|   50|         1|    false|\n",
      "| 14|              Kakuna|   Bug|Poison|  205| 45|    25|     50|     25|     25|   35|         1|    false|\n",
      "| 15|            Beedrill|   Bug|Poison|  395| 65|    90|     40|     45|     80|   75|         1|    false|\n",
      "| 15|BeedrillMega Beed...|   Bug|Poison|  495| 65|   150|     40|     15|     80|  145|         1|    false|\n",
      "+---+--------------------+------+------+-----+---+------+-------+-------+-------+-----+----------+---------+\n",
      "only showing top 20 rows\n",
      "\n"
     ]
    }
   ],
   "source": [
    "df_pyspark.show()"
   ]
  },
  {
   "cell_type": "code",
   "execution_count": 42,
   "id": "094b32eb",
   "metadata": {},
   "outputs": [],
   "source": [
    "## Dropping columns\n",
    "df_pyspark=df_pyspark.drop('Sp. Atk','Sp. Def')"
   ]
  },
  {
   "cell_type": "code",
   "execution_count": 43,
   "id": "23d9d4a3",
   "metadata": {},
   "outputs": [
    {
     "name": "stdout",
     "output_type": "stream",
     "text": [
      "+---+--------------------+------+------+-----+---+------+-------+-----+----------+---------+\n",
      "|  #|                Name|Type 1|Type 2|Total| HP|Attack|Defense|Speed|Generation|Legendary|\n",
      "+---+--------------------+------+------+-----+---+------+-------+-----+----------+---------+\n",
      "|  6|           Charizard|  Fire|Flying|  534| 78|    84|     78|  100|         1|    false|\n",
      "|  6|CharizardMega Cha...|  Fire|Dragon|  634| 78|   130|    111|  100|         1|    false|\n",
      "|  6|CharizardMega Cha...|  Fire|Flying|  634| 78|   104|     78|  100|         1|    false|\n",
      "| 12|          Butterfree|   Bug|Flying|  395| 60|    45|     50|   70|         1|    false|\n",
      "| 13|              Weedle|   Bug|Poison|  195| 40|    35|     30|   50|         1|    false|\n",
      "| 14|              Kakuna|   Bug|Poison|  205| 45|    25|     50|   35|         1|    false|\n",
      "| 15|            Beedrill|   Bug|Poison|  395| 65|    90|     40|   75|         1|    false|\n",
      "| 15|BeedrillMega Beed...|   Bug|Poison|  495| 65|   150|     40|  145|         1|    false|\n",
      "| 16|              Pidgey|Normal|Flying|  251| 40|    45|     40|   56|         1|    false|\n",
      "| 17|           Pidgeotto|Normal|Flying|  349| 63|    60|     55|   71|         1|    false|\n",
      "| 18|             Pidgeot|Normal|Flying|  479| 83|    80|     75|  101|         1|    false|\n",
      "| 18| PidgeotMega Pidgeot|Normal|Flying|  579| 83|    80|     80|  121|         1|    false|\n",
      "| 21|             Spearow|Normal|Flying|  262| 40|    60|     30|   70|         1|    false|\n",
      "| 22|              Fearow|Normal|Flying|  442| 65|    90|     65|  100|         1|    false|\n",
      "| 31|           Nidoqueen|Poison|Ground|  505| 90|    92|     87|   76|         1|    false|\n",
      "| 34|            Nidoking|Poison|Ground|  505| 81|   102|     77|   85|         1|    false|\n",
      "| 39|          Jigglypuff|Normal| Fairy|  270|115|    45|     20|   20|         1|    false|\n",
      "| 40|          Wigglytuff|Normal| Fairy|  435|140|    70|     45|   45|         1|    false|\n",
      "| 41|               Zubat|Poison|Flying|  245| 40|    45|     35|   55|         1|    false|\n",
      "| 42|              Golbat|Poison|Flying|  455| 75|    80|     70|   90|         1|    false|\n",
      "+---+--------------------+------+------+-----+---+------+-------+-----+----------+---------+\n",
      "only showing top 20 rows\n",
      "\n"
     ]
    }
   ],
   "source": [
    "## Dropping NaNs\n",
    "df_pyspark.na.drop().show()\n",
    "# Drops all rows with nans"
   ]
  },
  {
   "cell_type": "markdown",
   "id": "3cb787ae",
   "metadata": {},
   "source": [
    "Going through the arguents of .drop()"
   ]
  },
  {
   "cell_type": "markdown",
   "id": "ee63af76",
   "metadata": {},
   "source": [
    "**how** can be any or all:\n",
    "* Any - drop the row if there are any nans\n",
    "* All - drop the row if all vals nans"
   ]
  },
  {
   "cell_type": "code",
   "execution_count": 44,
   "id": "0d259fea",
   "metadata": {},
   "outputs": [
    {
     "name": "stdout",
     "output_type": "stream",
     "text": [
      "+---+--------------------+------+------+-----+---+------+-------+-----+----------+---------+\n",
      "|  #|                Name|Type 1|Type 2|Total| HP|Attack|Defense|Speed|Generation|Legendary|\n",
      "+---+--------------------+------+------+-----+---+------+-------+-----+----------+---------+\n",
      "|  1|                null| Grass|Poison|  318| 45|    49|     49| null|         1|    false|\n",
      "|  2|                null| Grass|Poison|  405| 60|    62|     63| null|         1|    false|\n",
      "|  3|                null| Grass|Poison|  525| 80|    82|     83| null|         1|    false|\n",
      "|  3|VenusaurMega Venu...| Grass|Poison|  625| 80|   100|    123| null|         1|    false|\n",
      "|  4|          Charmander|  Fire|  null|  309| 39|    52|     43| null|         1|    false|\n",
      "|  5|          Charmeleon|  Fire|  null|  405| 58|    64|     58|   80|         1|    false|\n",
      "|  6|           Charizard|  Fire|Flying|  534| 78|    84|     78|  100|         1|    false|\n",
      "|  6|CharizardMega Cha...|  Fire|Dragon|  634| 78|   130|    111|  100|         1|    false|\n",
      "|  6|CharizardMega Cha...|  Fire|Flying|  634| 78|   104|     78|  100|         1|    false|\n",
      "|  7|            Squirtle| Water|  null|  314| 44|    48|     65|   43|         1|    false|\n",
      "|  8|           Wartortle| Water|  null|  405| 59|    63|     80|   58|         1|    false|\n",
      "|  9|           Blastoise| Water|  null|  530| 79|    83|    100|   78|         1|    false|\n",
      "|  9|BlastoiseMega Bla...| Water|  null|  630| 79|   103|    120|   78|         1|    false|\n",
      "| 10|            Caterpie|   Bug|  null|  195| 45|    30|     35|   45|         1|    false|\n",
      "| 11|             Metapod|   Bug|  null|  205| 50|    20|     55|   30|         1|    false|\n",
      "| 12|          Butterfree|   Bug|Flying|  395| 60|    45|     50|   70|         1|    false|\n",
      "| 13|              Weedle|   Bug|Poison|  195| 40|    35|     30|   50|         1|    false|\n",
      "| 14|              Kakuna|   Bug|Poison|  205| 45|    25|     50|   35|         1|    false|\n",
      "| 15|            Beedrill|   Bug|Poison|  395| 65|    90|     40|   75|         1|    false|\n",
      "| 15|BeedrillMega Beed...|   Bug|Poison|  495| 65|   150|     40|  145|         1|    false|\n",
      "+---+--------------------+------+------+-----+---+------+-------+-----+----------+---------+\n",
      "only showing top 20 rows\n",
      "\n"
     ]
    }
   ],
   "source": [
    "df_pyspark.na.drop(how='all').show()\n",
    "#any is default"
   ]
  },
  {
   "cell_type": "markdown",
   "id": "4899389e",
   "metadata": {},
   "source": [
    "**thresh** - threshold to not drop is at least two non-null values must be present."
   ]
  },
  {
   "cell_type": "code",
   "execution_count": 45,
   "id": "730efa43",
   "metadata": {},
   "outputs": [
    {
     "name": "stdout",
     "output_type": "stream",
     "text": [
      "+---+--------------------+------+------+-----+---+------+-------+-----+----------+---------+\n",
      "|  #|                Name|Type 1|Type 2|Total| HP|Attack|Defense|Speed|Generation|Legendary|\n",
      "+---+--------------------+------+------+-----+---+------+-------+-----+----------+---------+\n",
      "|  1|                null| Grass|Poison|  318| 45|    49|     49| null|         1|    false|\n",
      "|  2|                null| Grass|Poison|  405| 60|    62|     63| null|         1|    false|\n",
      "|  3|                null| Grass|Poison|  525| 80|    82|     83| null|         1|    false|\n",
      "|  3|VenusaurMega Venu...| Grass|Poison|  625| 80|   100|    123| null|         1|    false|\n",
      "|  4|          Charmander|  Fire|  null|  309| 39|    52|     43| null|         1|    false|\n",
      "|  5|          Charmeleon|  Fire|  null|  405| 58|    64|     58|   80|         1|    false|\n",
      "|  6|           Charizard|  Fire|Flying|  534| 78|    84|     78|  100|         1|    false|\n",
      "|  6|CharizardMega Cha...|  Fire|Dragon|  634| 78|   130|    111|  100|         1|    false|\n",
      "|  6|CharizardMega Cha...|  Fire|Flying|  634| 78|   104|     78|  100|         1|    false|\n",
      "|  7|            Squirtle| Water|  null|  314| 44|    48|     65|   43|         1|    false|\n",
      "|  8|           Wartortle| Water|  null|  405| 59|    63|     80|   58|         1|    false|\n",
      "|  9|           Blastoise| Water|  null|  530| 79|    83|    100|   78|         1|    false|\n",
      "|  9|BlastoiseMega Bla...| Water|  null|  630| 79|   103|    120|   78|         1|    false|\n",
      "| 10|            Caterpie|   Bug|  null|  195| 45|    30|     35|   45|         1|    false|\n",
      "| 11|             Metapod|   Bug|  null|  205| 50|    20|     55|   30|         1|    false|\n",
      "| 12|          Butterfree|   Bug|Flying|  395| 60|    45|     50|   70|         1|    false|\n",
      "| 13|              Weedle|   Bug|Poison|  195| 40|    35|     30|   50|         1|    false|\n",
      "| 14|              Kakuna|   Bug|Poison|  205| 45|    25|     50|   35|         1|    false|\n",
      "| 15|            Beedrill|   Bug|Poison|  395| 65|    90|     40|   75|         1|    false|\n",
      "| 15|BeedrillMega Beed...|   Bug|Poison|  495| 65|   150|     40|  145|         1|    false|\n",
      "+---+--------------------+------+------+-----+---+------+-------+-----+----------+---------+\n",
      "only showing top 20 rows\n",
      "\n"
     ]
    }
   ],
   "source": [
    "df_pyspark.na.drop(thresh=9).show()"
   ]
  },
  {
   "cell_type": "markdown",
   "id": "6248bb9e",
   "metadata": {},
   "source": [
    "**subset** - decision to drop based on subset of columns"
   ]
  },
  {
   "cell_type": "code",
   "execution_count": 46,
   "id": "d27a284d",
   "metadata": {},
   "outputs": [
    {
     "name": "stdout",
     "output_type": "stream",
     "text": [
      "+---+--------------------+------+------+-----+---+------+-------+-----+----------+---------+\n",
      "|  #|                Name|Type 1|Type 2|Total| HP|Attack|Defense|Speed|Generation|Legendary|\n",
      "+---+--------------------+------+------+-----+---+------+-------+-----+----------+---------+\n",
      "|  3|VenusaurMega Venu...| Grass|Poison|  625| 80|   100|    123| null|         1|    false|\n",
      "|  4|          Charmander|  Fire|  null|  309| 39|    52|     43| null|         1|    false|\n",
      "|  5|          Charmeleon|  Fire|  null|  405| 58|    64|     58|   80|         1|    false|\n",
      "|  6|           Charizard|  Fire|Flying|  534| 78|    84|     78|  100|         1|    false|\n",
      "|  6|CharizardMega Cha...|  Fire|Dragon|  634| 78|   130|    111|  100|         1|    false|\n",
      "|  6|CharizardMega Cha...|  Fire|Flying|  634| 78|   104|     78|  100|         1|    false|\n",
      "|  7|            Squirtle| Water|  null|  314| 44|    48|     65|   43|         1|    false|\n",
      "|  8|           Wartortle| Water|  null|  405| 59|    63|     80|   58|         1|    false|\n",
      "|  9|           Blastoise| Water|  null|  530| 79|    83|    100|   78|         1|    false|\n",
      "|  9|BlastoiseMega Bla...| Water|  null|  630| 79|   103|    120|   78|         1|    false|\n",
      "| 10|            Caterpie|   Bug|  null|  195| 45|    30|     35|   45|         1|    false|\n",
      "| 11|             Metapod|   Bug|  null|  205| 50|    20|     55|   30|         1|    false|\n",
      "| 12|          Butterfree|   Bug|Flying|  395| 60|    45|     50|   70|         1|    false|\n",
      "| 13|              Weedle|   Bug|Poison|  195| 40|    35|     30|   50|         1|    false|\n",
      "| 14|              Kakuna|   Bug|Poison|  205| 45|    25|     50|   35|         1|    false|\n",
      "| 15|            Beedrill|   Bug|Poison|  395| 65|    90|     40|   75|         1|    false|\n",
      "| 15|BeedrillMega Beed...|   Bug|Poison|  495| 65|   150|     40|  145|         1|    false|\n",
      "| 16|              Pidgey|Normal|Flying|  251| 40|    45|     40|   56|         1|    false|\n",
      "| 17|           Pidgeotto|Normal|Flying|  349| 63|    60|     55|   71|         1|    false|\n",
      "| 18|             Pidgeot|Normal|Flying|  479| 83|    80|     75|  101|         1|    false|\n",
      "+---+--------------------+------+------+-----+---+------+-------+-----+----------+---------+\n",
      "only showing top 20 rows\n",
      "\n"
     ]
    }
   ],
   "source": [
    "df_pyspark.na.drop(subset=['Name']).show()"
   ]
  },
  {
   "cell_type": "markdown",
   "id": "a1f68454",
   "metadata": {},
   "source": [
    "**Filling missing values**"
   ]
  },
  {
   "cell_type": "code",
   "execution_count": 47,
   "id": "3c752e02",
   "metadata": {},
   "outputs": [
    {
     "name": "stdout",
     "output_type": "stream",
     "text": [
      "+---+--------------------+------+-------+-----+---+------+-------+-----+----------+---------+\n",
      "|  #|                Name|Type 1| Type 2|Total| HP|Attack|Defense|Speed|Generation|Legendary|\n",
      "+---+--------------------+------+-------+-----+---+------+-------+-----+----------+---------+\n",
      "|  1|             missing| Grass| Poison|  318| 45|    49|     49| null|         1|    false|\n",
      "|  2|             missing| Grass| Poison|  405| 60|    62|     63| null|         1|    false|\n",
      "|  3|             missing| Grass| Poison|  525| 80|    82|     83| null|         1|    false|\n",
      "|  3|VenusaurMega Venu...| Grass| Poison|  625| 80|   100|    123| null|         1|    false|\n",
      "|  4|          Charmander|  Fire|missing|  309| 39|    52|     43| null|         1|    false|\n",
      "|  5|          Charmeleon|  Fire|missing|  405| 58|    64|     58|   80|         1|    false|\n",
      "|  6|           Charizard|  Fire| Flying|  534| 78|    84|     78|  100|         1|    false|\n",
      "|  6|CharizardMega Cha...|  Fire| Dragon|  634| 78|   130|    111|  100|         1|    false|\n",
      "|  6|CharizardMega Cha...|  Fire| Flying|  634| 78|   104|     78|  100|         1|    false|\n",
      "|  7|            Squirtle| Water|missing|  314| 44|    48|     65|   43|         1|    false|\n",
      "|  8|           Wartortle| Water|missing|  405| 59|    63|     80|   58|         1|    false|\n",
      "|  9|           Blastoise| Water|missing|  530| 79|    83|    100|   78|         1|    false|\n",
      "|  9|BlastoiseMega Bla...| Water|missing|  630| 79|   103|    120|   78|         1|    false|\n",
      "| 10|            Caterpie|   Bug|missing|  195| 45|    30|     35|   45|         1|    false|\n",
      "| 11|             Metapod|   Bug|missing|  205| 50|    20|     55|   30|         1|    false|\n",
      "| 12|          Butterfree|   Bug| Flying|  395| 60|    45|     50|   70|         1|    false|\n",
      "| 13|              Weedle|   Bug| Poison|  195| 40|    35|     30|   50|         1|    false|\n",
      "| 14|              Kakuna|   Bug| Poison|  205| 45|    25|     50|   35|         1|    false|\n",
      "| 15|            Beedrill|   Bug| Poison|  395| 65|    90|     40|   75|         1|    false|\n",
      "| 15|BeedrillMega Beed...|   Bug| Poison|  495| 65|   150|     40|  145|         1|    false|\n",
      "+---+--------------------+------+-------+-----+---+------+-------+-----+----------+---------+\n",
      "only showing top 20 rows\n",
      "\n"
     ]
    }
   ],
   "source": [
    "df_pyspark.na.fill('missing').show()"
   ]
  },
  {
   "cell_type": "code",
   "execution_count": 48,
   "id": "e0571b62",
   "metadata": {},
   "outputs": [
    {
     "name": "stdout",
     "output_type": "stream",
     "text": [
      "+---+--------------------+------+-------+-----+---+------+-------+-----+----------+---------+\n",
      "|  #|                Name|Type 1| Type 2|Total| HP|Attack|Defense|Speed|Generation|Legendary|\n",
      "+---+--------------------+------+-------+-----+---+------+-------+-----+----------+---------+\n",
      "|  1|             missing| Grass| Poison|  318| 45|    49|     49| null|         1|    false|\n",
      "|  2|             missing| Grass| Poison|  405| 60|    62|     63| null|         1|    false|\n",
      "|  3|             missing| Grass| Poison|  525| 80|    82|     83| null|         1|    false|\n",
      "|  3|VenusaurMega Venu...| Grass| Poison|  625| 80|   100|    123| null|         1|    false|\n",
      "|  4|          Charmander|  Fire|missing|  309| 39|    52|     43| null|         1|    false|\n",
      "|  5|          Charmeleon|  Fire|missing|  405| 58|    64|     58|   80|         1|    false|\n",
      "|  6|           Charizard|  Fire| Flying|  534| 78|    84|     78|  100|         1|    false|\n",
      "|  6|CharizardMega Cha...|  Fire| Dragon|  634| 78|   130|    111|  100|         1|    false|\n",
      "|  6|CharizardMega Cha...|  Fire| Flying|  634| 78|   104|     78|  100|         1|    false|\n",
      "|  7|            Squirtle| Water|missing|  314| 44|    48|     65|   43|         1|    false|\n",
      "|  8|           Wartortle| Water|missing|  405| 59|    63|     80|   58|         1|    false|\n",
      "|  9|           Blastoise| Water|missing|  530| 79|    83|    100|   78|         1|    false|\n",
      "|  9|BlastoiseMega Bla...| Water|missing|  630| 79|   103|    120|   78|         1|    false|\n",
      "| 10|            Caterpie|   Bug|missing|  195| 45|    30|     35|   45|         1|    false|\n",
      "| 11|             Metapod|   Bug|missing|  205| 50|    20|     55|   30|         1|    false|\n",
      "| 12|          Butterfree|   Bug| Flying|  395| 60|    45|     50|   70|         1|    false|\n",
      "| 13|              Weedle|   Bug| Poison|  195| 40|    35|     30|   50|         1|    false|\n",
      "| 14|              Kakuna|   Bug| Poison|  205| 45|    25|     50|   35|         1|    false|\n",
      "| 15|            Beedrill|   Bug| Poison|  395| 65|    90|     40|   75|         1|    false|\n",
      "| 15|BeedrillMega Beed...|   Bug| Poison|  495| 65|   150|     40|  145|         1|    false|\n",
      "+---+--------------------+------+-------+-----+---+------+-------+-----+----------+---------+\n",
      "only showing top 20 rows\n",
      "\n"
     ]
    }
   ],
   "source": [
    "df_pyspark.na.fill('missing',['Name', 'Type 2']).show()"
   ]
  },
  {
   "cell_type": "code",
   "execution_count": 50,
   "id": "7eea208c",
   "metadata": {},
   "outputs": [],
   "source": [
    "## Fill with median of the specific column \n",
    "## (could do for mean to, and mutiple cols at once)\n",
    "from pyspark.ml.feature import Imputer\n",
    "\n",
    "imputer = Imputer(\n",
    "    inputCols=['Speed'], \n",
    "    outputCols=[\"{}_imputed\".format(c) for c in ['Speed']]\n",
    "    ).setStrategy(\"median\")"
   ]
  },
  {
   "cell_type": "code",
   "execution_count": 51,
   "id": "196a5406",
   "metadata": {},
   "outputs": [
    {
     "name": "stdout",
     "output_type": "stream",
     "text": [
      "+---+--------------------+------+------+-----+---+------+-------+-----+----------+---------+-------------+\n",
      "|  #|                Name|Type 1|Type 2|Total| HP|Attack|Defense|Speed|Generation|Legendary|Speed_imputed|\n",
      "+---+--------------------+------+------+-----+---+------+-------+-----+----------+---------+-------------+\n",
      "|  1|                null| Grass|Poison|  318| 45|    49|     49| null|         1|    false|           65|\n",
      "|  2|                null| Grass|Poison|  405| 60|    62|     63| null|         1|    false|           65|\n",
      "|  3|                null| Grass|Poison|  525| 80|    82|     83| null|         1|    false|           65|\n",
      "|  3|VenusaurMega Venu...| Grass|Poison|  625| 80|   100|    123| null|         1|    false|           65|\n",
      "|  4|          Charmander|  Fire|  null|  309| 39|    52|     43| null|         1|    false|           65|\n",
      "|  5|          Charmeleon|  Fire|  null|  405| 58|    64|     58|   80|         1|    false|           80|\n",
      "|  6|           Charizard|  Fire|Flying|  534| 78|    84|     78|  100|         1|    false|          100|\n",
      "|  6|CharizardMega Cha...|  Fire|Dragon|  634| 78|   130|    111|  100|         1|    false|          100|\n",
      "|  6|CharizardMega Cha...|  Fire|Flying|  634| 78|   104|     78|  100|         1|    false|          100|\n",
      "|  7|            Squirtle| Water|  null|  314| 44|    48|     65|   43|         1|    false|           43|\n",
      "|  8|           Wartortle| Water|  null|  405| 59|    63|     80|   58|         1|    false|           58|\n",
      "|  9|           Blastoise| Water|  null|  530| 79|    83|    100|   78|         1|    false|           78|\n",
      "|  9|BlastoiseMega Bla...| Water|  null|  630| 79|   103|    120|   78|         1|    false|           78|\n",
      "| 10|            Caterpie|   Bug|  null|  195| 45|    30|     35|   45|         1|    false|           45|\n",
      "| 11|             Metapod|   Bug|  null|  205| 50|    20|     55|   30|         1|    false|           30|\n",
      "| 12|          Butterfree|   Bug|Flying|  395| 60|    45|     50|   70|         1|    false|           70|\n",
      "| 13|              Weedle|   Bug|Poison|  195| 40|    35|     30|   50|         1|    false|           50|\n",
      "| 14|              Kakuna|   Bug|Poison|  205| 45|    25|     50|   35|         1|    false|           35|\n",
      "| 15|            Beedrill|   Bug|Poison|  395| 65|    90|     40|   75|         1|    false|           75|\n",
      "| 15|BeedrillMega Beed...|   Bug|Poison|  495| 65|   150|     40|  145|         1|    false|          145|\n",
      "+---+--------------------+------+------+-----+---+------+-------+-----+----------+---------+-------------+\n",
      "only showing top 20 rows\n",
      "\n"
     ]
    }
   ],
   "source": [
    "# Add imputation cols to df\n",
    "imputer.fit(df_pyspark).transform(df_pyspark).show()"
   ]
  },
  {
   "cell_type": "code",
   "execution_count": 52,
   "id": "b50bb472",
   "metadata": {},
   "outputs": [
    {
     "name": "stdout",
     "output_type": "stream",
     "text": [
      "+---+--------------------+------+------+-----+---+------+-------+-----+----------+---------+\n",
      "|  #|                Name|Type 1|Type 2|Total| HP|Attack|Defense|Speed|Generation|Legendary|\n",
      "+---+--------------------+------+------+-----+---+------+-------+-----+----------+---------+\n",
      "|  1|                null| Grass|Poison|  318| 45|    49|     49|   65|         1|    false|\n",
      "|  2|                null| Grass|Poison|  405| 60|    62|     63|   65|         1|    false|\n",
      "|  3|                null| Grass|Poison|  525| 80|    82|     83|   65|         1|    false|\n",
      "|  3|VenusaurMega Venu...| Grass|Poison|  625| 80|   100|    123|   65|         1|    false|\n",
      "|  4|          Charmander|  Fire|  null|  309| 39|    52|     43|   65|         1|    false|\n",
      "|  5|          Charmeleon|  Fire|  null|  405| 58|    64|     58|   80|         1|    false|\n",
      "|  6|           Charizard|  Fire|Flying|  534| 78|    84|     78|  100|         1|    false|\n",
      "|  6|CharizardMega Cha...|  Fire|Dragon|  634| 78|   130|    111|  100|         1|    false|\n",
      "|  6|CharizardMega Cha...|  Fire|Flying|  634| 78|   104|     78|  100|         1|    false|\n",
      "|  7|            Squirtle| Water|  null|  314| 44|    48|     65|   43|         1|    false|\n",
      "|  8|           Wartortle| Water|  null|  405| 59|    63|     80|   58|         1|    false|\n",
      "|  9|           Blastoise| Water|  null|  530| 79|    83|    100|   78|         1|    false|\n",
      "|  9|BlastoiseMega Bla...| Water|  null|  630| 79|   103|    120|   78|         1|    false|\n",
      "| 10|            Caterpie|   Bug|  null|  195| 45|    30|     35|   45|         1|    false|\n",
      "| 11|             Metapod|   Bug|  null|  205| 50|    20|     55|   30|         1|    false|\n",
      "| 12|          Butterfree|   Bug|Flying|  395| 60|    45|     50|   70|         1|    false|\n",
      "| 13|              Weedle|   Bug|Poison|  195| 40|    35|     30|   50|         1|    false|\n",
      "| 14|              Kakuna|   Bug|Poison|  205| 45|    25|     50|   35|         1|    false|\n",
      "| 15|            Beedrill|   Bug|Poison|  395| 65|    90|     40|   75|         1|    false|\n",
      "| 15|BeedrillMega Beed...|   Bug|Poison|  495| 65|   150|     40|  145|         1|    false|\n",
      "+---+--------------------+------+------+-----+---+------+-------+-----+----------+---------+\n",
      "only showing top 20 rows\n",
      "\n"
     ]
    }
   ],
   "source": [
    "## To replace instead of make new column:\n",
    "imputer_replace = Imputer(\n",
    "    inputCols=['Speed'], \n",
    "    outputCols=['Speed']\n",
    "    ).setStrategy(\"median\")\n",
    "imputer_replace.fit(df_pyspark).transform(df_pyspark).show()"
   ]
  }
 ],
 "metadata": {
  "kernelspec": {
   "display_name": "Python 3 (ipykernel)",
   "language": "python",
   "name": "python3"
  },
  "language_info": {
   "codemirror_mode": {
    "name": "ipython",
    "version": 3
   },
   "file_extension": ".py",
   "mimetype": "text/x-python",
   "name": "python",
   "nbconvert_exporter": "python",
   "pygments_lexer": "ipython3",
   "version": "3.9.13"
  }
 },
 "nbformat": 4,
 "nbformat_minor": 5
}
