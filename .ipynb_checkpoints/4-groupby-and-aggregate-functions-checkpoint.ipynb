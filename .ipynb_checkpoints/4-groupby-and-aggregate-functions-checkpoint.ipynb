{
 "cells": [
  {
   "cell_type": "markdown",
   "id": "441264b7",
   "metadata": {},
   "source": [
    "# 4 PySpark Grouby and Aggregate"
   ]
  },
  {
   "cell_type": "markdown",
   "id": "5560e795",
   "metadata": {},
   "source": [
    "Covers:\n",
    "* Groupby and Aggregate in PySpark"
   ]
  },
  {
   "cell_type": "code",
   "execution_count": 1,
   "id": "ac3dab5f",
   "metadata": {},
   "outputs": [],
   "source": [
    "from pyspark.sql import SparkSession"
   ]
  },
  {
   "cell_type": "code",
   "execution_count": 2,
   "id": "e73ad094",
   "metadata": {},
   "outputs": [],
   "source": [
    "spark=SparkSession.builder.appName('Agg').getOrCreate()"
   ]
  },
  {
   "cell_type": "code",
   "execution_count": 3,
   "id": "75978107",
   "metadata": {},
   "outputs": [],
   "source": [
    "df_pyspark=spark.read.csv('Pokemon.csv',header=True,inferSchema=True)"
   ]
  },
  {
   "cell_type": "markdown",
   "id": "ba3e699b",
   "metadata": {},
   "source": [
    "**GroupBy**"
   ]
  },
  {
   "cell_type": "code",
   "execution_count": 20,
   "id": "eff97326",
   "metadata": {},
   "outputs": [],
   "source": [
    "## Making table with fewer columns to make the groupby operation easier\n",
    "df_subset_to_find_mean = df_pyspark.select(['Type 1','Type 2','Total','HP','Attack','Defense','Speed'])"
   ]
  },
  {
   "cell_type": "code",
   "execution_count": 31,
   "id": "24214f07",
   "metadata": {},
   "outputs": [
    {
     "name": "stdout",
     "output_type": "stream",
     "text": [
      "+--------+--------+-----------------+-----------------+------------------+------------------+------------------+\n",
      "|  Type 1|  Type 2|       avg(Total)|          avg(HP)|       avg(Attack)|      avg(Defense)|        avg(Speed)|\n",
      "+--------+--------+-----------------+-----------------+------------------+------------------+------------------+\n",
      "|  Ground|    Fire|            770.0|            100.0|             180.0|             160.0|              90.0|\n",
      "|  Dragon|     Ice|686.6666666666666|            125.0|             140.0| 93.33333333333333|              95.0|\n",
      "|  Dragon|Electric|            680.0|            100.0|             150.0|             120.0|              90.0|\n",
      "|  Dragon|    Fire|            680.0|            100.0|             120.0|             100.0|              90.0|\n",
      "|   Steel|  Dragon|            680.0|            100.0|             120.0|             120.0|              90.0|\n",
      "|   Ghost|  Dragon|            680.0|            150.0|             110.0|             110.0|              90.0|\n",
      "| Psychic|    Dark|            680.0|             80.0|             160.0|              60.0|              80.0|\n",
      "|  Dragon| Psychic|            650.0|             80.0|             100.0|              97.5|             110.0|\n",
      "|    Rock|    Dark|            650.0|            100.0|             149.0|             130.0|              66.0|\n",
      "|  Dragon|  Flying|641.6666666666666|94.33333333333333|135.66666666666666|              97.5| 98.33333333333333|\n",
      "| Psychic|Fighting|638.6666666666666|80.66666666666667|             160.0| 86.66666666666667|106.66666666666667|\n",
      "|    Fire|  Dragon|            634.0|             78.0|             130.0|             111.0|             100.0|\n",
      "|   Grass|  Dragon|            630.0|             70.0|             110.0|              75.0|             145.0|\n",
      "|Electric|  Dragon|            610.0|             90.0|              95.0|             105.0|              45.0|\n",
      "|   Water|  Dragon|            610.0|             82.5|             107.5|              97.5|              92.5|\n",
      "|    Rock|   Fairy|            600.0|             50.0|103.33333333333333|136.66666666666666|              70.0|\n",
      "|    Fire|   Steel|            600.0|             91.0|              90.0|             106.0|              77.0|\n",
      "|    Fire|   Water|            600.0|             80.0|             110.0|             120.0|              70.0|\n",
      "| Psychic|    Fire|            600.0|            100.0|             100.0|             100.0|             100.0|\n",
      "| Psychic|   Ghost|            600.0|             80.0|             110.0|              60.0|              70.0|\n",
      "+--------+--------+-----------------+-----------------+------------------+------------------+------------------+\n",
      "only showing top 20 rows\n",
      "\n"
     ]
    }
   ],
   "source": [
    "## Groupby\n",
    "### Grouped to find the avg number stats by type combination\n",
    "df_avg_type_stats = df_subset_to_find_mean.groupBy(['Type 1','Type 2']).mean()\n",
    "df_avg_type_stats.sort('avg(Total)',ascending=False).show()\n",
    "#Have gained some insights here; strongest all round type combinations"
   ]
  },
  {
   "cell_type": "code",
   "execution_count": 33,
   "id": "7993231e",
   "metadata": {},
   "outputs": [
    {
     "name": "stdout",
     "output_type": "stream",
     "text": [
      "+----------+-----+\n",
      "|Generation|count|\n",
      "+----------+-----+\n",
      "|         1|  166|\n",
      "|         6|   82|\n",
      "|         3|  160|\n",
      "|         5|  165|\n",
      "|         4|  121|\n",
      "|         2|  106|\n",
      "+----------+-----+\n",
      "\n"
     ]
    }
   ],
   "source": [
    "## Groupby to find the number of pokemon for each generation:\n",
    "df_pyspark.groupBy('Generation').count().show()"
   ]
  },
  {
   "cell_type": "markdown",
   "id": "ee5cc5b9",
   "metadata": {},
   "source": [
    "**Aggregate**"
   ]
  },
  {
   "cell_type": "code",
   "execution_count": 36,
   "id": "688e9838",
   "metadata": {},
   "outputs": [
    {
     "name": "stdout",
     "output_type": "stream",
     "text": [
      "+------+\n",
      "|sum(#)|\n",
      "+------+\n",
      "|290251|\n",
      "+------+\n",
      "\n"
     ]
    }
   ],
   "source": [
    "## Aggregate to find the total number of pokemons (with unique ids - clones like versions of charizard don't count)\n",
    "df_pyspark.agg({'#':'sum'}).show()"
   ]
  }
 ],
 "metadata": {
  "kernelspec": {
   "display_name": "Python 3 (ipykernel)",
   "language": "python",
   "name": "python3"
  },
  "language_info": {
   "codemirror_mode": {
    "name": "ipython",
    "version": 3
   },
   "file_extension": ".py",
   "mimetype": "text/x-python",
   "name": "python",
   "nbconvert_exporter": "python",
   "pygments_lexer": "ipython3",
   "version": "3.9.13"
  }
 },
 "nbformat": 4,
 "nbformat_minor": 5
}
