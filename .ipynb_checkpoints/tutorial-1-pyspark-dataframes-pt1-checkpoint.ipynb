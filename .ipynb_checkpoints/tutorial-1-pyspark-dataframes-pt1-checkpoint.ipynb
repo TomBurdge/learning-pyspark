{
 "cells": [
  {
   "cell_type": "markdown",
   "id": "34e2b033",
   "metadata": {},
   "source": [
    "# Tutorial 1 - PySpark DataFrames - pt1"
   ]
  },
  {
   "cell_type": "markdown",
   "id": "a27e982d",
   "metadata": {},
   "source": [
    "Covers:\n",
    "\n",
    "* Creating a spark session\n",
    "* PySpark Dataframe\n",
    "* Reading The Dataset\n",
    "* Checking the Datatypes of the Column(Schema)\n",
    "* Selecting Columns And Indexing\n",
    "* Check Describe option similar to Pandas\n",
    "* Adding Columns\n",
    "* Dropping columns\n",
    "* Renaming Columns\n"
   ]
  },
  {
   "cell_type": "markdown",
   "id": "2b209fc1",
   "metadata": {},
   "source": [
    "**Setup**"
   ]
  },
  {
   "cell_type": "code",
   "execution_count": 1,
   "id": "0fcb4e95",
   "metadata": {},
   "outputs": [],
   "source": [
    "from pyspark.sql import SparkSession"
   ]
  },
  {
   "cell_type": "markdown",
   "id": "6b45d98e",
   "metadata": {},
   "source": [
    "**Creating a Spark Session**"
   ]
  },
  {
   "cell_type": "code",
   "execution_count": 2,
   "id": "ecc42c9b",
   "metadata": {},
   "outputs": [],
   "source": [
    "spark=SparkSession.builder.appName('DataFrame').getOrCreate()"
   ]
  },
  {
   "cell_type": "code",
   "execution_count": 3,
   "id": "543ba6ec",
   "metadata": {},
   "outputs": [
    {
     "data": {
      "text/html": [
       "\n",
       "            <div>\n",
       "                <p><b>SparkSession - in-memory</b></p>\n",
       "                \n",
       "        <div>\n",
       "            <p><b>SparkContext</b></p>\n",
       "\n",
       "            <p><a href=\"http://LAPTOP-2K2N270U:4040\">Spark UI</a></p>\n",
       "\n",
       "            <dl>\n",
       "              <dt>Version</dt>\n",
       "                <dd><code>v3.3.1</code></dd>\n",
       "              <dt>Master</dt>\n",
       "                <dd><code>local[*]</code></dd>\n",
       "              <dt>AppName</dt>\n",
       "                <dd><code>DataFrame</code></dd>\n",
       "            </dl>\n",
       "        </div>\n",
       "        \n",
       "            </div>\n",
       "        "
      ],
      "text/plain": [
       "<pyspark.sql.session.SparkSession at 0x282fe862340>"
      ]
     },
     "execution_count": 3,
     "metadata": {},
     "output_type": "execute_result"
    }
   ],
   "source": [
    "spark"
   ]
  },
  {
   "cell_type": "markdown",
   "id": "5fa879a6",
   "metadata": {},
   "source": [
    "**Reading the Dataset**"
   ]
  },
  {
   "cell_type": "code",
   "execution_count": 4,
   "id": "990de79b",
   "metadata": {},
   "outputs": [],
   "source": [
    "## Read the dataset\n",
    "df_pyspark=spark.read.option('header','true').csv('Pokemon.csv',inferSchema=True) "
   ]
  },
  {
   "cell_type": "markdown",
   "id": "f0326ecd",
   "metadata": {},
   "source": [
    "Reading the dataset optional arguments explained:\n",
    "* read.option args: 'header', 'true' - first row is header.\n",
    "* .csv inferSchema=True: infers the datatypes, otherwise makes them all strings."
   ]
  },
  {
   "cell_type": "code",
   "execution_count": 5,
   "id": "48c631b2",
   "metadata": {},
   "outputs": [
    {
     "name": "stdout",
     "output_type": "stream",
     "text": [
      "+---+--------------------+------+------+-----+---+------+-------+-------+-------+-----+----------+---------+\n",
      "|  #|                Name|Type 1|Type 2|Total| HP|Attack|Defense|Sp. Atk|Sp. Def|Speed|Generation|Legendary|\n",
      "+---+--------------------+------+------+-----+---+------+-------+-------+-------+-----+----------+---------+\n",
      "|  1|           Bulbasaur| Grass|Poison|  318| 45|    49|     49|     65|     65|   45|         1|    false|\n",
      "|  2|             Ivysaur| Grass|Poison|  405| 60|    62|     63|     80|     80|   60|         1|    false|\n",
      "|  3|            Venusaur| Grass|Poison|  525| 80|    82|     83|    100|    100|   80|         1|    false|\n",
      "|  3|VenusaurMega Venu...| Grass|Poison|  625| 80|   100|    123|    122|    120|   80|         1|    false|\n",
      "|  4|          Charmander|  Fire|  null|  309| 39|    52|     43|     60|     50|   65|         1|    false|\n",
      "|  5|          Charmeleon|  Fire|  null|  405| 58|    64|     58|     80|     65|   80|         1|    false|\n",
      "|  6|           Charizard|  Fire|Flying|  534| 78|    84|     78|    109|     85|  100|         1|    false|\n",
      "|  6|CharizardMega Cha...|  Fire|Dragon|  634| 78|   130|    111|    130|     85|  100|         1|    false|\n",
      "|  6|CharizardMega Cha...|  Fire|Flying|  634| 78|   104|     78|    159|    115|  100|         1|    false|\n",
      "|  7|            Squirtle| Water|  null|  314| 44|    48|     65|     50|     64|   43|         1|    false|\n",
      "|  8|           Wartortle| Water|  null|  405| 59|    63|     80|     65|     80|   58|         1|    false|\n",
      "|  9|           Blastoise| Water|  null|  530| 79|    83|    100|     85|    105|   78|         1|    false|\n",
      "|  9|BlastoiseMega Bla...| Water|  null|  630| 79|   103|    120|    135|    115|   78|         1|    false|\n",
      "| 10|            Caterpie|   Bug|  null|  195| 45|    30|     35|     20|     20|   45|         1|    false|\n",
      "| 11|             Metapod|   Bug|  null|  205| 50|    20|     55|     25|     25|   30|         1|    false|\n",
      "| 12|          Butterfree|   Bug|Flying|  395| 60|    45|     50|     90|     80|   70|         1|    false|\n",
      "| 13|              Weedle|   Bug|Poison|  195| 40|    35|     30|     20|     20|   50|         1|    false|\n",
      "| 14|              Kakuna|   Bug|Poison|  205| 45|    25|     50|     25|     25|   35|         1|    false|\n",
      "| 15|            Beedrill|   Bug|Poison|  395| 65|    90|     40|     45|     80|   75|         1|    false|\n",
      "| 15|BeedrillMega Beed...|   Bug|Poison|  495| 65|   150|     40|     15|     80|  145|         1|    false|\n",
      "+---+--------------------+------+------+-----+---+------+-------+-------+-------+-----+----------+---------+\n",
      "only showing top 20 rows\n",
      "\n"
     ]
    }
   ],
   "source": [
    "## Show the DataFrame with pretty loading\n",
    "df_pyspark.show()"
   ]
  },
  {
   "cell_type": "code",
   "execution_count": 6,
   "id": "eb9fb032",
   "metadata": {},
   "outputs": [
    {
     "name": "stdout",
     "output_type": "stream",
     "text": [
      "root\n",
      " |-- #: integer (nullable = true)\n",
      " |-- Name: string (nullable = true)\n",
      " |-- Type 1: string (nullable = true)\n",
      " |-- Type 2: string (nullable = true)\n",
      " |-- Total: integer (nullable = true)\n",
      " |-- HP: integer (nullable = true)\n",
      " |-- Attack: integer (nullable = true)\n",
      " |-- Defense: integer (nullable = true)\n",
      " |-- Sp. Atk: integer (nullable = true)\n",
      " |-- Sp. Def: integer (nullable = true)\n",
      " |-- Speed: integer (nullable = true)\n",
      " |-- Generation: integer (nullable = true)\n",
      " |-- Legendary: boolean (nullable = true)\n",
      "\n"
     ]
    }
   ],
   "source": [
    "## Check the schema (datatypes)\n",
    "df_pyspark.printSchema() #equivalent to pandas .info()"
   ]
  },
  {
   "cell_type": "code",
   "execution_count": 7,
   "id": "59791919",
   "metadata": {},
   "outputs": [],
   "source": [
    "## More readable way to read .csv:\n",
    "df_pyspark=spark.read.csv('Pokemon.csv',header=True,inferSchema=True)"
   ]
  },
  {
   "cell_type": "code",
   "execution_count": 9,
   "id": "cbb429b9",
   "metadata": {},
   "outputs": [
    {
     "data": {
      "text/plain": [
       "pyspark.sql.dataframe.DataFrame"
      ]
     },
     "execution_count": 9,
     "metadata": {},
     "output_type": "execute_result"
    }
   ],
   "source": [
    "type(df_pyspark)"
   ]
  },
  {
   "cell_type": "markdown",
   "id": "24e1612b",
   "metadata": {},
   "source": [
    "**Selecting columns and indexing**"
   ]
  },
  {
   "cell_type": "code",
   "execution_count": 10,
   "id": "5ef526a0",
   "metadata": {},
   "outputs": [
    {
     "data": {
      "text/plain": [
       "['#',\n",
       " 'Name',\n",
       " 'Type 1',\n",
       " 'Type 2',\n",
       " 'Total',\n",
       " 'HP',\n",
       " 'Attack',\n",
       " 'Defense',\n",
       " 'Sp. Atk',\n",
       " 'Sp. Def',\n",
       " 'Speed',\n",
       " 'Generation',\n",
       " 'Legendary']"
      ]
     },
     "execution_count": 10,
     "metadata": {},
     "output_type": "execute_result"
    }
   ],
   "source": [
    "## See the columns\n",
    "df_pyspark.columns"
   ]
  },
  {
   "cell_type": "code",
   "execution_count": 11,
   "id": "64b55d07",
   "metadata": {},
   "outputs": [
    {
     "name": "stdout",
     "output_type": "stream",
     "text": [
      "+--------------------+------+------+\n",
      "|                Name|Type 1|Type 2|\n",
      "+--------------------+------+------+\n",
      "|           Bulbasaur| Grass|Poison|\n",
      "|             Ivysaur| Grass|Poison|\n",
      "|            Venusaur| Grass|Poison|\n",
      "|VenusaurMega Venu...| Grass|Poison|\n",
      "|          Charmander|  Fire|  null|\n",
      "|          Charmeleon|  Fire|  null|\n",
      "|           Charizard|  Fire|Flying|\n",
      "|CharizardMega Cha...|  Fire|Dragon|\n",
      "|CharizardMega Cha...|  Fire|Flying|\n",
      "|            Squirtle| Water|  null|\n",
      "|           Wartortle| Water|  null|\n",
      "|           Blastoise| Water|  null|\n",
      "|BlastoiseMega Bla...| Water|  null|\n",
      "|            Caterpie|   Bug|  null|\n",
      "|             Metapod|   Bug|  null|\n",
      "|          Butterfree|   Bug|Flying|\n",
      "|              Weedle|   Bug|Poison|\n",
      "|              Kakuna|   Bug|Poison|\n",
      "|            Beedrill|   Bug|Poison|\n",
      "|BeedrillMega Beed...|   Bug|Poison|\n",
      "+--------------------+------+------+\n",
      "only showing top 20 rows\n",
      "\n"
     ]
    }
   ],
   "source": [
    "## Select specific columns (and show them)\n",
    "df_pyspark.select([ 'Name', 'Type 1', 'Type 2',]).show() \n",
    "#if just one column, don't need the square brackets"
   ]
  },
  {
   "cell_type": "code",
   "execution_count": null,
   "id": "e3bfaee6",
   "metadata": {},
   "outputs": [],
   "source": []
  }
 ],
 "metadata": {
  "kernelspec": {
   "display_name": "Python 3 (ipykernel)",
   "language": "python",
   "name": "python3"
  },
  "language_info": {
   "codemirror_mode": {
    "name": "ipython",
    "version": 3
   },
   "file_extension": ".py",
   "mimetype": "text/x-python",
   "name": "python",
   "nbconvert_exporter": "python",
   "pygments_lexer": "ipython3",
   "version": "3.9.13"
  }
 },
 "nbformat": 4,
 "nbformat_minor": 5
}
